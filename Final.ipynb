{
 "cells": [
  {
   "cell_type": "markdown",
   "id": "1766db4f",
   "metadata": {},
   "source": [
    "<h1><center><strong>Cardiovascular-Disease-prediction</strong></center></h1>\n",
    " <hr style=\"color:#E1CF01\">"
   ]
  },
  {
   "cell_type": "markdown",
   "id": "5b3ca8ac",
   "metadata": {},
   "source": [
    "# Introduction\n",
    "\n",
    "-----------------\n",
    "\n",
    "The cardiovascular system is made up of the heart and blood vessels. Cardiovascular disease (CVD) is defined as any serious, abnormal condition of the heart or blood vessels(arteries, veins). \n",
    "Many cardiovascular diseases are preventable.\n",
    "\n",
    "- **data:** Cardiovascular Disease dataset.\n",
    "- **source:** Kaggle.\n",
    "- **Features:**13.\n",
    "- **Rows:** 70000.\n",
    "- all the dataset values wear collected at the moment of medical examination."
   ]
  },
  {
   "cell_type": "markdown",
   "id": "5a25e20a",
   "metadata": {},
   "source": [
    "#  EDA\n",
    "\n",
    "------------\n",
    "\n",
    "## A- Reading Data:\n"
   ]
  },
  {
   "cell_type": "markdown",
   "id": "a9e267b7",
   "metadata": {},
   "source": [
    "#### Import libraries:"
   ]
  },
  {
   "cell_type": "code",
   "execution_count": 86,
   "id": "7e19b410",
   "metadata": {},
   "outputs": [
    {
     "name": "stdout",
     "output_type": "stream",
     "text": [
      "Requirement already satisfied: xgboost in c:\\users\\paris\\anaconda3\\lib\\site-packages (1.5.1)\n",
      "Requirement already satisfied: numpy in c:\\users\\paris\\anaconda3\\lib\\site-packages (from xgboost) (1.20.1)\n",
      "Requirement already satisfied: scipy in c:\\users\\paris\\anaconda3\\lib\\site-packages (from xgboost) (1.6.2)\n",
      "Requirement already satisfied: lightgbm in c:\\users\\paris\\anaconda3\\lib\\site-packages (3.3.1)\n",
      "Requirement already satisfied: scipy in c:\\users\\paris\\anaconda3\\lib\\site-packages (from lightgbm) (1.6.2)\n",
      "Requirement already satisfied: numpy in c:\\users\\paris\\anaconda3\\lib\\site-packages (from lightgbm) (1.20.1)\n",
      "Requirement already satisfied: wheel in c:\\users\\paris\\anaconda3\\lib\\site-packages (from lightgbm) (0.36.2)\n",
      "Requirement already satisfied: scikit-learn!=0.22.0 in c:\\users\\paris\\anaconda3\\lib\\site-packages (from lightgbm) (0.24.1)\n",
      "Requirement already satisfied: threadpoolctl>=2.0.0 in c:\\users\\paris\\anaconda3\\lib\\site-packages (from scikit-learn!=0.22.0->lightgbm) (2.1.0)\n",
      "Requirement already satisfied: joblib>=0.11 in c:\\users\\paris\\anaconda3\\lib\\site-packages (from scikit-learn!=0.22.0->lightgbm) (1.0.1)\n"
     ]
    }
   ],
   "source": [
    "import plotly.express as pl\n",
    "import pandas as pd\n",
    "import numpy as np\n",
    "import matplotlib.pyplot as plt\n",
    "import seaborn as sns\n",
    "%matplotlib inline\n",
    "pd.set_option('display.float_format', lambda x: '%.2f' % x)\n",
    "import statsmodels.api as sm\n",
    "import statsmodels.formula.api as smf\n",
    "import warnings\n",
    "warnings.filterwarnings('ignore')\n",
    "import seaborn as sb\n",
    "from sklearn.feature_selection import SelectPercentile\n",
    "from sklearn.feature_selection import chi2 , f_classif\n",
    "from sklearn.model_selection import train_test_split\n",
    "from sklearn.preprocessing import StandardScaler\n",
    "from sklearn.linear_model import LogisticRegression\n",
    "from sklearn.model_selection import GridSearchCV\n",
    "from sklearn.neighbors import KNeighborsClassifier\n",
    "from sklearn.model_selection import GridSearchCV\n",
    "from sklearn.neighbors import KNeighborsClassifier\n",
    "from sklearn.model_selection import GridSearchCV\n",
    "from sklearn.metrics import classification_report\n",
    "from sklearn.ensemble import RandomForestClassifier\n",
    "import sklearn.metrics as metrics\n",
    "!pip install xgboost\n",
    "from sklearn.tree import DecisionTreeClassifier\n",
    "from sklearn.model_selection import StratifiedKFold\n",
    "from xgboost import XGBClassifier\n",
    "!pip install lightgbm\n",
    "from lightgbm import LGBMClassifier\n",
    "from sklearn.metrics import precision_score\n",
    "from sklearn.metrics import recall_score\n",
    "sns.set_style('whitegrid')\n",
    "from sklearn.model_selection import train_test_split, GridSearchCV, \\\n",
    "RandomizedSearchCV\n",
    "from sklearn.preprocessing import MinMaxScaler, StandardScaler\n",
    "from sklearn.svm import SVC\n",
    "from sklearn.neighbors import KNeighborsClassifier\n",
    "from sklearn.tree import DecisionTreeClassifier, plot_tree\n",
    "from sklearn.metrics import f1_score, accuracy_score, classification_report,\\\n",
    "confusion_matrix, roc_auc_score, plot_confusion_matrix, plot_roc_curve\n",
    "!pip install mlxtend --quiet\n",
    "from mlxtend.classifier import StackingCVClassifier"
   ]
  },
  {
   "cell_type": "markdown",
   "id": "fd6f55c4",
   "metadata": {},
   "source": [
    "#### Read and discover the dataset:"
   ]
  },
  {
   "cell_type": "code",
   "execution_count": 2,
   "id": "b251a03a",
   "metadata": {},
   "outputs": [],
   "source": [
    "df =pd.read_csv('cardio_train.csv',sep=';')"
   ]
  },
  {
   "cell_type": "code",
   "execution_count": 3,
   "id": "f1393a74",
   "metadata": {},
   "outputs": [
    {
     "data": {
      "text/html": [
       "<div>\n",
       "<style scoped>\n",
       "    .dataframe tbody tr th:only-of-type {\n",
       "        vertical-align: middle;\n",
       "    }\n",
       "\n",
       "    .dataframe tbody tr th {\n",
       "        vertical-align: top;\n",
       "    }\n",
       "\n",
       "    .dataframe thead th {\n",
       "        text-align: right;\n",
       "    }\n",
       "</style>\n",
       "<table border=\"1\" class=\"dataframe\">\n",
       "  <thead>\n",
       "    <tr style=\"text-align: right;\">\n",
       "      <th></th>\n",
       "      <th>id</th>\n",
       "      <th>age</th>\n",
       "      <th>gender</th>\n",
       "      <th>height</th>\n",
       "      <th>weight</th>\n",
       "      <th>ap_hi</th>\n",
       "      <th>ap_lo</th>\n",
       "      <th>cholesterol</th>\n",
       "      <th>gluc</th>\n",
       "      <th>smoke</th>\n",
       "      <th>alco</th>\n",
       "      <th>active</th>\n",
       "      <th>cardio</th>\n",
       "    </tr>\n",
       "  </thead>\n",
       "  <tbody>\n",
       "    <tr>\n",
       "      <th>0</th>\n",
       "      <td>0</td>\n",
       "      <td>18393</td>\n",
       "      <td>2</td>\n",
       "      <td>168</td>\n",
       "      <td>62.00</td>\n",
       "      <td>110</td>\n",
       "      <td>80</td>\n",
       "      <td>1</td>\n",
       "      <td>1</td>\n",
       "      <td>0</td>\n",
       "      <td>0</td>\n",
       "      <td>1</td>\n",
       "      <td>0</td>\n",
       "    </tr>\n",
       "    <tr>\n",
       "      <th>1</th>\n",
       "      <td>1</td>\n",
       "      <td>20228</td>\n",
       "      <td>1</td>\n",
       "      <td>156</td>\n",
       "      <td>85.00</td>\n",
       "      <td>140</td>\n",
       "      <td>90</td>\n",
       "      <td>3</td>\n",
       "      <td>1</td>\n",
       "      <td>0</td>\n",
       "      <td>0</td>\n",
       "      <td>1</td>\n",
       "      <td>1</td>\n",
       "    </tr>\n",
       "    <tr>\n",
       "      <th>2</th>\n",
       "      <td>2</td>\n",
       "      <td>18857</td>\n",
       "      <td>1</td>\n",
       "      <td>165</td>\n",
       "      <td>64.00</td>\n",
       "      <td>130</td>\n",
       "      <td>70</td>\n",
       "      <td>3</td>\n",
       "      <td>1</td>\n",
       "      <td>0</td>\n",
       "      <td>0</td>\n",
       "      <td>0</td>\n",
       "      <td>1</td>\n",
       "    </tr>\n",
       "    <tr>\n",
       "      <th>3</th>\n",
       "      <td>3</td>\n",
       "      <td>17623</td>\n",
       "      <td>2</td>\n",
       "      <td>169</td>\n",
       "      <td>82.00</td>\n",
       "      <td>150</td>\n",
       "      <td>100</td>\n",
       "      <td>1</td>\n",
       "      <td>1</td>\n",
       "      <td>0</td>\n",
       "      <td>0</td>\n",
       "      <td>1</td>\n",
       "      <td>1</td>\n",
       "    </tr>\n",
       "    <tr>\n",
       "      <th>4</th>\n",
       "      <td>4</td>\n",
       "      <td>17474</td>\n",
       "      <td>1</td>\n",
       "      <td>156</td>\n",
       "      <td>56.00</td>\n",
       "      <td>100</td>\n",
       "      <td>60</td>\n",
       "      <td>1</td>\n",
       "      <td>1</td>\n",
       "      <td>0</td>\n",
       "      <td>0</td>\n",
       "      <td>0</td>\n",
       "      <td>0</td>\n",
       "    </tr>\n",
       "  </tbody>\n",
       "</table>\n",
       "</div>"
      ],
      "text/plain": [
       "   id    age  gender  height  weight  ap_hi  ap_lo  cholesterol  gluc  smoke  \\\n",
       "0   0  18393       2     168   62.00    110     80            1     1      0   \n",
       "1   1  20228       1     156   85.00    140     90            3     1      0   \n",
       "2   2  18857       1     165   64.00    130     70            3     1      0   \n",
       "3   3  17623       2     169   82.00    150    100            1     1      0   \n",
       "4   4  17474       1     156   56.00    100     60            1     1      0   \n",
       "\n",
       "   alco  active  cardio  \n",
       "0     0       1       0  \n",
       "1     0       1       1  \n",
       "2     0       0       1  \n",
       "3     0       1       1  \n",
       "4     0       0       0  "
      ]
     },
     "execution_count": 3,
     "metadata": {},
     "output_type": "execute_result"
    }
   ],
   "source": [
    "df.head()"
   ]
  },
  {
   "cell_type": "code",
   "execution_count": 4,
   "id": "a3bce90b",
   "metadata": {},
   "outputs": [
    {
     "name": "stdout",
     "output_type": "stream",
     "text": [
      "<class 'pandas.core.frame.DataFrame'>\n",
      "RangeIndex: 70000 entries, 0 to 69999\n",
      "Data columns (total 13 columns):\n",
      " #   Column       Non-Null Count  Dtype  \n",
      "---  ------       --------------  -----  \n",
      " 0   id           70000 non-null  int64  \n",
      " 1   age          70000 non-null  int64  \n",
      " 2   gender       70000 non-null  int64  \n",
      " 3   height       70000 non-null  int64  \n",
      " 4   weight       70000 non-null  float64\n",
      " 5   ap_hi        70000 non-null  int64  \n",
      " 6   ap_lo        70000 non-null  int64  \n",
      " 7   cholesterol  70000 non-null  int64  \n",
      " 8   gluc         70000 non-null  int64  \n",
      " 9   smoke        70000 non-null  int64  \n",
      " 10  alco         70000 non-null  int64  \n",
      " 11  active       70000 non-null  int64  \n",
      " 12  cardio       70000 non-null  int64  \n",
      "dtypes: float64(1), int64(12)\n",
      "memory usage: 6.9 MB\n"
     ]
    }
   ],
   "source": [
    "df.info()"
   ]
  },
  {
   "cell_type": "code",
   "execution_count": 5,
   "id": "22dcdf65",
   "metadata": {},
   "outputs": [
    {
     "data": {
      "text/html": [
       "<div>\n",
       "<style scoped>\n",
       "    .dataframe tbody tr th:only-of-type {\n",
       "        vertical-align: middle;\n",
       "    }\n",
       "\n",
       "    .dataframe tbody tr th {\n",
       "        vertical-align: top;\n",
       "    }\n",
       "\n",
       "    .dataframe thead th {\n",
       "        text-align: right;\n",
       "    }\n",
       "</style>\n",
       "<table border=\"1\" class=\"dataframe\">\n",
       "  <thead>\n",
       "    <tr style=\"text-align: right;\">\n",
       "      <th></th>\n",
       "      <th>count</th>\n",
       "      <th>mean</th>\n",
       "      <th>std</th>\n",
       "      <th>min</th>\n",
       "      <th>25%</th>\n",
       "      <th>50%</th>\n",
       "      <th>75%</th>\n",
       "      <th>max</th>\n",
       "    </tr>\n",
       "  </thead>\n",
       "  <tbody>\n",
       "    <tr>\n",
       "      <th>id</th>\n",
       "      <td>70000.00</td>\n",
       "      <td>49972.42</td>\n",
       "      <td>28851.30</td>\n",
       "      <td>0.00</td>\n",
       "      <td>25006.75</td>\n",
       "      <td>50001.50</td>\n",
       "      <td>74889.25</td>\n",
       "      <td>99999.00</td>\n",
       "    </tr>\n",
       "    <tr>\n",
       "      <th>age</th>\n",
       "      <td>70000.00</td>\n",
       "      <td>19468.87</td>\n",
       "      <td>2467.25</td>\n",
       "      <td>10798.00</td>\n",
       "      <td>17664.00</td>\n",
       "      <td>19703.00</td>\n",
       "      <td>21327.00</td>\n",
       "      <td>23713.00</td>\n",
       "    </tr>\n",
       "    <tr>\n",
       "      <th>gender</th>\n",
       "      <td>70000.00</td>\n",
       "      <td>1.35</td>\n",
       "      <td>0.48</td>\n",
       "      <td>1.00</td>\n",
       "      <td>1.00</td>\n",
       "      <td>1.00</td>\n",
       "      <td>2.00</td>\n",
       "      <td>2.00</td>\n",
       "    </tr>\n",
       "    <tr>\n",
       "      <th>height</th>\n",
       "      <td>70000.00</td>\n",
       "      <td>164.36</td>\n",
       "      <td>8.21</td>\n",
       "      <td>55.00</td>\n",
       "      <td>159.00</td>\n",
       "      <td>165.00</td>\n",
       "      <td>170.00</td>\n",
       "      <td>250.00</td>\n",
       "    </tr>\n",
       "    <tr>\n",
       "      <th>weight</th>\n",
       "      <td>70000.00</td>\n",
       "      <td>74.21</td>\n",
       "      <td>14.40</td>\n",
       "      <td>10.00</td>\n",
       "      <td>65.00</td>\n",
       "      <td>72.00</td>\n",
       "      <td>82.00</td>\n",
       "      <td>200.00</td>\n",
       "    </tr>\n",
       "    <tr>\n",
       "      <th>ap_hi</th>\n",
       "      <td>70000.00</td>\n",
       "      <td>128.82</td>\n",
       "      <td>154.01</td>\n",
       "      <td>-150.00</td>\n",
       "      <td>120.00</td>\n",
       "      <td>120.00</td>\n",
       "      <td>140.00</td>\n",
       "      <td>16020.00</td>\n",
       "    </tr>\n",
       "    <tr>\n",
       "      <th>ap_lo</th>\n",
       "      <td>70000.00</td>\n",
       "      <td>96.63</td>\n",
       "      <td>188.47</td>\n",
       "      <td>-70.00</td>\n",
       "      <td>80.00</td>\n",
       "      <td>80.00</td>\n",
       "      <td>90.00</td>\n",
       "      <td>11000.00</td>\n",
       "    </tr>\n",
       "    <tr>\n",
       "      <th>cholesterol</th>\n",
       "      <td>70000.00</td>\n",
       "      <td>1.37</td>\n",
       "      <td>0.68</td>\n",
       "      <td>1.00</td>\n",
       "      <td>1.00</td>\n",
       "      <td>1.00</td>\n",
       "      <td>2.00</td>\n",
       "      <td>3.00</td>\n",
       "    </tr>\n",
       "    <tr>\n",
       "      <th>gluc</th>\n",
       "      <td>70000.00</td>\n",
       "      <td>1.23</td>\n",
       "      <td>0.57</td>\n",
       "      <td>1.00</td>\n",
       "      <td>1.00</td>\n",
       "      <td>1.00</td>\n",
       "      <td>1.00</td>\n",
       "      <td>3.00</td>\n",
       "    </tr>\n",
       "    <tr>\n",
       "      <th>smoke</th>\n",
       "      <td>70000.00</td>\n",
       "      <td>0.09</td>\n",
       "      <td>0.28</td>\n",
       "      <td>0.00</td>\n",
       "      <td>0.00</td>\n",
       "      <td>0.00</td>\n",
       "      <td>0.00</td>\n",
       "      <td>1.00</td>\n",
       "    </tr>\n",
       "    <tr>\n",
       "      <th>alco</th>\n",
       "      <td>70000.00</td>\n",
       "      <td>0.05</td>\n",
       "      <td>0.23</td>\n",
       "      <td>0.00</td>\n",
       "      <td>0.00</td>\n",
       "      <td>0.00</td>\n",
       "      <td>0.00</td>\n",
       "      <td>1.00</td>\n",
       "    </tr>\n",
       "    <tr>\n",
       "      <th>active</th>\n",
       "      <td>70000.00</td>\n",
       "      <td>0.80</td>\n",
       "      <td>0.40</td>\n",
       "      <td>0.00</td>\n",
       "      <td>1.00</td>\n",
       "      <td>1.00</td>\n",
       "      <td>1.00</td>\n",
       "      <td>1.00</td>\n",
       "    </tr>\n",
       "    <tr>\n",
       "      <th>cardio</th>\n",
       "      <td>70000.00</td>\n",
       "      <td>0.50</td>\n",
       "      <td>0.50</td>\n",
       "      <td>0.00</td>\n",
       "      <td>0.00</td>\n",
       "      <td>0.00</td>\n",
       "      <td>1.00</td>\n",
       "      <td>1.00</td>\n",
       "    </tr>\n",
       "  </tbody>\n",
       "</table>\n",
       "</div>"
      ],
      "text/plain": [
       "               count     mean      std      min      25%      50%      75%  \\\n",
       "id          70000.00 49972.42 28851.30     0.00 25006.75 50001.50 74889.25   \n",
       "age         70000.00 19468.87  2467.25 10798.00 17664.00 19703.00 21327.00   \n",
       "gender      70000.00     1.35     0.48     1.00     1.00     1.00     2.00   \n",
       "height      70000.00   164.36     8.21    55.00   159.00   165.00   170.00   \n",
       "weight      70000.00    74.21    14.40    10.00    65.00    72.00    82.00   \n",
       "ap_hi       70000.00   128.82   154.01  -150.00   120.00   120.00   140.00   \n",
       "ap_lo       70000.00    96.63   188.47   -70.00    80.00    80.00    90.00   \n",
       "cholesterol 70000.00     1.37     0.68     1.00     1.00     1.00     2.00   \n",
       "gluc        70000.00     1.23     0.57     1.00     1.00     1.00     1.00   \n",
       "smoke       70000.00     0.09     0.28     0.00     0.00     0.00     0.00   \n",
       "alco        70000.00     0.05     0.23     0.00     0.00     0.00     0.00   \n",
       "active      70000.00     0.80     0.40     0.00     1.00     1.00     1.00   \n",
       "cardio      70000.00     0.50     0.50     0.00     0.00     0.00     1.00   \n",
       "\n",
       "                 max  \n",
       "id          99999.00  \n",
       "age         23713.00  \n",
       "gender          2.00  \n",
       "height        250.00  \n",
       "weight        200.00  \n",
       "ap_hi       16020.00  \n",
       "ap_lo       11000.00  \n",
       "cholesterol     3.00  \n",
       "gluc            3.00  \n",
       "smoke           1.00  \n",
       "alco            1.00  \n",
       "active          1.00  \n",
       "cardio          1.00  "
      ]
     },
     "execution_count": 5,
     "metadata": {},
     "output_type": "execute_result"
    }
   ],
   "source": [
    "df.describe().T"
   ]
  },
  {
   "cell_type": "code",
   "execution_count": 6,
   "id": "a887d01d",
   "metadata": {},
   "outputs": [
    {
     "data": {
      "text/plain": [
       "0    35021\n",
       "1    34979\n",
       "Name: cardio, dtype: int64"
      ]
     },
     "execution_count": 6,
     "metadata": {},
     "output_type": "execute_result"
    }
   ],
   "source": [
    "#Check if data is imbalance or not\n",
    "df.cardio.value_counts()"
   ]
  },
  {
   "cell_type": "code",
   "execution_count": 7,
   "id": "dfd9eb61",
   "metadata": {},
   "outputs": [
    {
     "data": {
      "image/png": "[encoded data removed]",
      "text/plain": [
       "<Figure size 1008x432 with 1 Axes>"
      ]
     },
     "metadata": {},
     "output_type": "display_data"
    }
   ],
   "source": [
    "# Check Outlier\n",
    "plt.figure(figsize=[14,6])\n",
    "sns.boxplot(data=df);"
   ]
  },
  {
   "cell_type": "code",
   "execution_count": 8,
   "id": "23bbc5a2",
   "metadata": {},
   "outputs": [
    {
     "data": {
      "text/plain": [
       "(70000, 13)"
      ]
     },
     "execution_count": 8,
     "metadata": {},
     "output_type": "execute_result"
    }
   ],
   "source": [
    "df.shape"
   ]
  },
  {
   "cell_type": "markdown",
   "id": "0e681331",
   "metadata": {},
   "source": [
    "#### Cleaning Dataset:"
   ]
  },
  {
   "cell_type": "code",
   "execution_count": 9,
   "id": "8a7453a2",
   "metadata": {
    "scrolled": true
   },
   "outputs": [
    {
     "data": {
      "text/plain": [
       "id             0\n",
       "age            0\n",
       "gender         0\n",
       "height         0\n",
       "weight         0\n",
       "ap_hi          0\n",
       "ap_lo          0\n",
       "cholesterol    0\n",
       "gluc           0\n",
       "smoke          0\n",
       "alco           0\n",
       "active         0\n",
       "cardio         0\n",
       "dtype: int64"
      ]
     },
     "execution_count": 9,
     "metadata": {},
     "output_type": "execute_result"
    }
   ],
   "source": [
    "#Identifying missing values and duplicates first.\n",
    "df.isna().sum()"
   ]
  },
  {
   "cell_type": "code",
   "execution_count": 10,
   "id": "4f2474a0",
   "metadata": {},
   "outputs": [
    {
     "name": "stdout",
     "output_type": "stream",
     "text": [
      "24 duplicate records dropped.\n"
     ]
    }
   ],
   "source": [
    "duplicates = len(df) - len(df.drop(['id'],axis=1).drop_duplicates())\n",
    "df.drop(['id'],axis=1,inplace=True)\n",
    "df.drop_duplicates(inplace=True)\n",
    "print(f'{duplicates} duplicate records dropped.')"
   ]
  },
  {
   "cell_type": "code",
   "execution_count": 11,
   "id": "f0579e7d",
   "metadata": {},
   "outputs": [
    {
     "data": {
      "text/plain": [
       "(69976, 12)"
      ]
     },
     "execution_count": 11,
     "metadata": {},
     "output_type": "execute_result"
    }
   ],
   "source": [
    "df.shape"
   ]
  },
  {
   "cell_type": "code",
   "execution_count": 12,
   "id": "4e6347fd",
   "metadata": {
    "scrolled": true
   },
   "outputs": [],
   "source": [
    "# Convert type of age from days to years\n",
    "df[\"age\"] = round((df[\"age\"] / 365),2)"
   ]
  },
  {
   "cell_type": "code",
   "execution_count": 13,
   "id": "b72fd200",
   "metadata": {},
   "outputs": [
    {
     "data": {
      "image/png": "[encoded data removed]",
      "text/plain": [
       "<Figure size 432x288 with 1 Axes>"
      ]
     },
     "metadata": {},
     "output_type": "display_data"
    }
   ],
   "source": [
    "sns.scatterplot(df['weight'],df['height'],color=\"#cc6699\");\n",
    "# We will remove all records which seems like a bit abnormal from our analysis."
   ]
  },
  {
   "cell_type": "code",
   "execution_count": 14,
   "id": "3cd9f047",
   "metadata": {},
   "outputs": [],
   "source": [
    "# 1. Weight < 35 kg\n",
    "filt1 = df['weight']<35\n",
    "df.drop(index=list(df[filt1].index),inplace=True)\n",
    "\n",
    "# 2. Weight > 200 kg\n",
    "filt2 = df['weight']>200\n",
    "df.drop(index=list(df[filt2].index),inplace=True)\n",
    "\n",
    "# 3. Height < 135 cm\n",
    "filt3 = df['height']<135\n",
    "df.drop(index=list(df[filt3].index),inplace=True)\n",
    "\n",
    "# 4. Height > 190 cm\n",
    "filt4 = df['height']>190\n",
    "df.drop(index=list(df[filt4].index),inplace=True)\n"
   ]
  },
  {
   "cell_type": "code",
   "execution_count": 15,
   "id": "cefe3101",
   "metadata": {},
   "outputs": [
    {
     "data": {
      "image/png": "[encoded data removed]",
      "text/plain": [
       "<Figure size 432x288 with 1 Axes>"
      ]
     },
     "metadata": {},
     "output_type": "display_data"
    }
   ],
   "source": [
    "sns.scatterplot(df['weight'],df['height'], color=\"#cc6699\")\n",
    "plt.show()"
   ]
  },
  {
   "cell_type": "code",
   "execution_count": 16,
   "id": "c42c10ff",
   "metadata": {},
   "outputs": [
    {
     "data": {
      "text/plain": [
       "(69778, 12)"
      ]
     },
     "execution_count": 16,
     "metadata": {},
     "output_type": "execute_result"
    }
   ],
   "source": [
    "df.shape"
   ]
  },
  {
   "cell_type": "code",
   "execution_count": 17,
   "id": "1a0b69cc",
   "metadata": {},
   "outputs": [
    {
     "data": {
      "text/html": [
       "<div>\n",
       "<style scoped>\n",
       "    .dataframe tbody tr th:only-of-type {\n",
       "        vertical-align: middle;\n",
       "    }\n",
       "\n",
       "    .dataframe tbody tr th {\n",
       "        vertical-align: top;\n",
       "    }\n",
       "\n",
       "    .dataframe thead th {\n",
       "        text-align: right;\n",
       "    }\n",
       "</style>\n",
       "<table border=\"1\" class=\"dataframe\">\n",
       "  <thead>\n",
       "    <tr style=\"text-align: right;\">\n",
       "      <th></th>\n",
       "      <th>age</th>\n",
       "      <th>gender</th>\n",
       "      <th>height</th>\n",
       "      <th>weight</th>\n",
       "      <th>ap_hi</th>\n",
       "      <th>ap_lo</th>\n",
       "      <th>cholesterol</th>\n",
       "      <th>gluc</th>\n",
       "      <th>smoke</th>\n",
       "      <th>alco</th>\n",
       "      <th>active</th>\n",
       "      <th>cardio</th>\n",
       "    </tr>\n",
       "  </thead>\n",
       "  <tbody>\n",
       "    <tr>\n",
       "      <th>age</th>\n",
       "      <td>1.00</td>\n",
       "      <td>-0.02</td>\n",
       "      <td>-0.09</td>\n",
       "      <td>0.06</td>\n",
       "      <td>0.02</td>\n",
       "      <td>0.02</td>\n",
       "      <td>0.15</td>\n",
       "      <td>0.10</td>\n",
       "      <td>-0.05</td>\n",
       "      <td>-0.03</td>\n",
       "      <td>-0.01</td>\n",
       "      <td>0.24</td>\n",
       "    </tr>\n",
       "    <tr>\n",
       "      <th>gender</th>\n",
       "      <td>-0.02</td>\n",
       "      <td>1.00</td>\n",
       "      <td>0.52</td>\n",
       "      <td>0.16</td>\n",
       "      <td>0.01</td>\n",
       "      <td>0.02</td>\n",
       "      <td>-0.04</td>\n",
       "      <td>-0.02</td>\n",
       "      <td>0.34</td>\n",
       "      <td>0.17</td>\n",
       "      <td>0.01</td>\n",
       "      <td>0.01</td>\n",
       "    </tr>\n",
       "    <tr>\n",
       "      <th>height</th>\n",
       "      <td>-0.09</td>\n",
       "      <td>0.52</td>\n",
       "      <td>1.00</td>\n",
       "      <td>0.31</td>\n",
       "      <td>0.01</td>\n",
       "      <td>0.01</td>\n",
       "      <td>-0.06</td>\n",
       "      <td>-0.02</td>\n",
       "      <td>0.20</td>\n",
       "      <td>0.10</td>\n",
       "      <td>-0.01</td>\n",
       "      <td>-0.01</td>\n",
       "    </tr>\n",
       "    <tr>\n",
       "      <th>weight</th>\n",
       "      <td>0.06</td>\n",
       "      <td>0.16</td>\n",
       "      <td>0.31</td>\n",
       "      <td>1.00</td>\n",
       "      <td>0.03</td>\n",
       "      <td>0.04</td>\n",
       "      <td>0.14</td>\n",
       "      <td>0.11</td>\n",
       "      <td>0.07</td>\n",
       "      <td>0.07</td>\n",
       "      <td>-0.02</td>\n",
       "      <td>0.18</td>\n",
       "    </tr>\n",
       "    <tr>\n",
       "      <th>ap_hi</th>\n",
       "      <td>0.02</td>\n",
       "      <td>0.01</td>\n",
       "      <td>0.01</td>\n",
       "      <td>0.03</td>\n",
       "      <td>1.00</td>\n",
       "      <td>0.02</td>\n",
       "      <td>0.02</td>\n",
       "      <td>0.01</td>\n",
       "      <td>-0.00</td>\n",
       "      <td>0.00</td>\n",
       "      <td>-0.00</td>\n",
       "      <td>0.05</td>\n",
       "    </tr>\n",
       "    <tr>\n",
       "      <th>ap_lo</th>\n",
       "      <td>0.02</td>\n",
       "      <td>0.02</td>\n",
       "      <td>0.01</td>\n",
       "      <td>0.04</td>\n",
       "      <td>0.02</td>\n",
       "      <td>1.00</td>\n",
       "      <td>0.02</td>\n",
       "      <td>0.01</td>\n",
       "      <td>0.01</td>\n",
       "      <td>0.01</td>\n",
       "      <td>0.00</td>\n",
       "      <td>0.07</td>\n",
       "    </tr>\n",
       "    <tr>\n",
       "      <th>cholesterol</th>\n",
       "      <td>0.15</td>\n",
       "      <td>-0.04</td>\n",
       "      <td>-0.06</td>\n",
       "      <td>0.14</td>\n",
       "      <td>0.02</td>\n",
       "      <td>0.02</td>\n",
       "      <td>1.00</td>\n",
       "      <td>0.45</td>\n",
       "      <td>0.01</td>\n",
       "      <td>0.04</td>\n",
       "      <td>0.01</td>\n",
       "      <td>0.22</td>\n",
       "    </tr>\n",
       "    <tr>\n",
       "      <th>gluc</th>\n",
       "      <td>0.10</td>\n",
       "      <td>-0.02</td>\n",
       "      <td>-0.02</td>\n",
       "      <td>0.11</td>\n",
       "      <td>0.01</td>\n",
       "      <td>0.01</td>\n",
       "      <td>0.45</td>\n",
       "      <td>1.00</td>\n",
       "      <td>-0.00</td>\n",
       "      <td>0.01</td>\n",
       "      <td>-0.01</td>\n",
       "      <td>0.09</td>\n",
       "    </tr>\n",
       "    <tr>\n",
       "      <th>smoke</th>\n",
       "      <td>-0.05</td>\n",
       "      <td>0.34</td>\n",
       "      <td>0.20</td>\n",
       "      <td>0.07</td>\n",
       "      <td>-0.00</td>\n",
       "      <td>0.01</td>\n",
       "      <td>0.01</td>\n",
       "      <td>-0.00</td>\n",
       "      <td>1.00</td>\n",
       "      <td>0.34</td>\n",
       "      <td>0.03</td>\n",
       "      <td>-0.02</td>\n",
       "    </tr>\n",
       "    <tr>\n",
       "      <th>alco</th>\n",
       "      <td>-0.03</td>\n",
       "      <td>0.17</td>\n",
       "      <td>0.10</td>\n",
       "      <td>0.07</td>\n",
       "      <td>0.00</td>\n",
       "      <td>0.01</td>\n",
       "      <td>0.04</td>\n",
       "      <td>0.01</td>\n",
       "      <td>0.34</td>\n",
       "      <td>1.00</td>\n",
       "      <td>0.03</td>\n",
       "      <td>-0.01</td>\n",
       "    </tr>\n",
       "    <tr>\n",
       "      <th>active</th>\n",
       "      <td>-0.01</td>\n",
       "      <td>0.01</td>\n",
       "      <td>-0.01</td>\n",
       "      <td>-0.02</td>\n",
       "      <td>-0.00</td>\n",
       "      <td>0.00</td>\n",
       "      <td>0.01</td>\n",
       "      <td>-0.01</td>\n",
       "      <td>0.03</td>\n",
       "      <td>0.03</td>\n",
       "      <td>1.00</td>\n",
       "      <td>-0.04</td>\n",
       "    </tr>\n",
       "    <tr>\n",
       "      <th>cardio</th>\n",
       "      <td>0.24</td>\n",
       "      <td>0.01</td>\n",
       "      <td>-0.01</td>\n",
       "      <td>0.18</td>\n",
       "      <td>0.05</td>\n",
       "      <td>0.07</td>\n",
       "      <td>0.22</td>\n",
       "      <td>0.09</td>\n",
       "      <td>-0.02</td>\n",
       "      <td>-0.01</td>\n",
       "      <td>-0.04</td>\n",
       "      <td>1.00</td>\n",
       "    </tr>\n",
       "  </tbody>\n",
       "</table>\n",
       "</div>"
      ],
      "text/plain": [
       "              age  gender  height  weight  ap_hi  ap_lo  cholesterol  gluc  \\\n",
       "age          1.00   -0.02   -0.09    0.06   0.02   0.02         0.15  0.10   \n",
       "gender      -0.02    1.00    0.52    0.16   0.01   0.02        -0.04 -0.02   \n",
       "height      -0.09    0.52    1.00    0.31   0.01   0.01        -0.06 -0.02   \n",
       "weight       0.06    0.16    0.31    1.00   0.03   0.04         0.14  0.11   \n",
       "ap_hi        0.02    0.01    0.01    0.03   1.00   0.02         0.02  0.01   \n",
       "ap_lo        0.02    0.02    0.01    0.04   0.02   1.00         0.02  0.01   \n",
       "cholesterol  0.15   -0.04   -0.06    0.14   0.02   0.02         1.00  0.45   \n",
       "gluc         0.10   -0.02   -0.02    0.11   0.01   0.01         0.45  1.00   \n",
       "smoke       -0.05    0.34    0.20    0.07  -0.00   0.01         0.01 -0.00   \n",
       "alco        -0.03    0.17    0.10    0.07   0.00   0.01         0.04  0.01   \n",
       "active      -0.01    0.01   -0.01   -0.02  -0.00   0.00         0.01 -0.01   \n",
       "cardio       0.24    0.01   -0.01    0.18   0.05   0.07         0.22  0.09   \n",
       "\n",
       "             smoke  alco  active  cardio  \n",
       "age          -0.05 -0.03   -0.01    0.24  \n",
       "gender        0.34  0.17    0.01    0.01  \n",
       "height        0.20  0.10   -0.01   -0.01  \n",
       "weight        0.07  0.07   -0.02    0.18  \n",
       "ap_hi        -0.00  0.00   -0.00    0.05  \n",
       "ap_lo         0.01  0.01    0.00    0.07  \n",
       "cholesterol   0.01  0.04    0.01    0.22  \n",
       "gluc         -0.00  0.01   -0.01    0.09  \n",
       "smoke         1.00  0.34    0.03   -0.02  \n",
       "alco          0.34  1.00    0.03   -0.01  \n",
       "active        0.03  0.03    1.00   -0.04  \n",
       "cardio       -0.02 -0.01   -0.04    1.00  "
      ]
     },
     "execution_count": 17,
     "metadata": {},
     "output_type": "execute_result"
    }
   ],
   "source": [
    "df.corr()"
   ]
  },
  {
   "cell_type": "code",
   "execution_count": 18,
   "id": "f89a1deb",
   "metadata": {},
   "outputs": [],
   "source": [
    "# this method is for clean the outliers by set them to min and max ranges of specific column on the data frame.\n",
    "def clean_outliers(df, target_column):\n",
    "    column = df[target_column].copy()\n",
    "    \n",
    "    Q1 = column.quantile(0.25)\n",
    "    Q3 = column.quantile(0.75)\n",
    "    IQR = Q3 - Q1\n",
    "    \n",
    "    min_range = Q1 - 1.5 * IQR\n",
    "    max_range = Q3 + 1.5 * IQR\n",
    "    \n",
    "    min_outliers_mask = column < min_range\n",
    "    max_outliers_mask = column > max_range\n",
    "    \n",
    "    column[min_outliers_mask] = min_range\n",
    "    column[max_outliers_mask] = max_range\n",
    "    \n",
    "    return column"
   ]
  },
  {
   "cell_type": "code",
   "execution_count": 19,
   "id": "ebedbb7c",
   "metadata": {},
   "outputs": [],
   "source": [
    "df[\"ap_hi\"] = clean_outliers(df, 'ap_hi')"
   ]
  },
  {
   "cell_type": "code",
   "execution_count": 20,
   "id": "b9adc365",
   "metadata": {},
   "outputs": [],
   "source": [
    "df[\"ap_lo\"] = clean_outliers(df, 'ap_lo')"
   ]
  },
  {
   "cell_type": "code",
   "execution_count": 21,
   "id": "6d643b80",
   "metadata": {},
   "outputs": [],
   "source": [
    "#we remove unreasonable values (diastolic higher than systolic, numbers out of measurement range)\n",
    "df=df.query('90 < ap_hi < 170 & 65 < ap_lo < 105 & ap_hi> ap_lo')"
   ]
  },
  {
   "cell_type": "markdown",
   "id": "2b9a4b99",
   "metadata": {},
   "source": [
    "#### Feature engineering"
   ]
  },
  {
   "cell_type": "code",
   "execution_count": 22,
   "id": "21ec2ea4",
   "metadata": {},
   "outputs": [],
   "source": [
    "#We create a feature BMI using the height and weight of a person and see it's impact on target variable\n",
    "df['BMI'] = df['weight']/((df['height']/100)**2)"
   ]
  },
  {
   "cell_type": "code",
   "execution_count": 23,
   "id": "08853f59",
   "metadata": {},
   "outputs": [],
   "source": [
    "# We create Pulse Pressure  featureis another indicator of heart health\n",
    "df['pressure'] = abs (df['ap_hi'] - df['ap_lo'])"
   ]
  },
  {
   "cell_type": "code",
   "execution_count": 24,
   "id": "0e230102",
   "metadata": {},
   "outputs": [],
   "source": [
    "df=df.drop(['height','weight','ap_hi','ap_lo'],axis=1)"
   ]
  },
  {
   "cell_type": "code",
   "execution_count": 25,
   "id": "ce5a15c2",
   "metadata": {},
   "outputs": [
    {
     "data": {
      "text/html": [
       "<div>\n",
       "<style scoped>\n",
       "    .dataframe tbody tr th:only-of-type {\n",
       "        vertical-align: middle;\n",
       "    }\n",
       "\n",
       "    .dataframe tbody tr th {\n",
       "        vertical-align: top;\n",
       "    }\n",
       "\n",
       "    .dataframe thead th {\n",
       "        text-align: right;\n",
       "    }\n",
       "</style>\n",
       "<table border=\"1\" class=\"dataframe\">\n",
       "  <thead>\n",
       "    <tr style=\"text-align: right;\">\n",
       "      <th></th>\n",
       "      <th>age</th>\n",
       "      <th>gender</th>\n",
       "      <th>cholesterol</th>\n",
       "      <th>gluc</th>\n",
       "      <th>smoke</th>\n",
       "      <th>alco</th>\n",
       "      <th>active</th>\n",
       "      <th>cardio</th>\n",
       "      <th>BMI</th>\n",
       "      <th>pressure</th>\n",
       "    </tr>\n",
       "  </thead>\n",
       "  <tbody>\n",
       "    <tr>\n",
       "      <th>0</th>\n",
       "      <td>50.39</td>\n",
       "      <td>2</td>\n",
       "      <td>1</td>\n",
       "      <td>1</td>\n",
       "      <td>0</td>\n",
       "      <td>0</td>\n",
       "      <td>1</td>\n",
       "      <td>0</td>\n",
       "      <td>21.97</td>\n",
       "      <td>30</td>\n",
       "    </tr>\n",
       "  </tbody>\n",
       "</table>\n",
       "</div>"
      ],
      "text/plain": [
       "    age  gender  cholesterol  gluc  smoke  alco  active  cardio   BMI  \\\n",
       "0 50.39       2            1     1      0     0       1       0 21.97   \n",
       "\n",
       "   pressure  \n",
       "0        30  "
      ]
     },
     "execution_count": 25,
     "metadata": {},
     "output_type": "execute_result"
    }
   ],
   "source": [
    "df.head(1)"
   ]
  },
  {
   "cell_type": "code",
   "execution_count": 26,
   "id": "a0548335",
   "metadata": {},
   "outputs": [
    {
     "data": {
      "text/plain": [
       "(63515, 10)"
      ]
     },
     "execution_count": 26,
     "metadata": {},
     "output_type": "execute_result"
    }
   ],
   "source": [
    "df.shape"
   ]
  },
  {
   "cell_type": "code",
   "execution_count": 27,
   "id": "daedb49f",
   "metadata": {},
   "outputs": [
    {
     "name": "stdout",
     "output_type": "stream",
     "text": [
      "<class 'pandas.core.frame.DataFrame'>\n",
      "Int64Index: 63515 entries, 0 to 69999\n",
      "Data columns (total 10 columns):\n",
      " #   Column       Non-Null Count  Dtype  \n",
      "---  ------       --------------  -----  \n",
      " 0   age          63515 non-null  float64\n",
      " 1   gender       63515 non-null  int64  \n",
      " 2   cholesterol  63515 non-null  int64  \n",
      " 3   gluc         63515 non-null  int64  \n",
      " 4   smoke        63515 non-null  int64  \n",
      " 5   alco         63515 non-null  int64  \n",
      " 6   active       63515 non-null  int64  \n",
      " 7   cardio       63515 non-null  int64  \n",
      " 8   BMI          63515 non-null  float64\n",
      " 9   pressure     63515 non-null  int64  \n",
      "dtypes: float64(2), int64(8)\n",
      "memory usage: 5.3 MB\n"
     ]
    }
   ],
   "source": [
    "df.info()"
   ]
  },
  {
   "cell_type": "code",
   "execution_count": 28,
   "id": "8aac8878",
   "metadata": {},
   "outputs": [
    {
     "data": {
      "image/png": "[encoded data removed]",
      "text/plain": [
       "<Figure size 1008x432 with 1 Axes>"
      ]
     },
     "metadata": {},
     "output_type": "display_data"
    }
   ],
   "source": [
    "# Check Outlier\n",
    "plt.figure(figsize=[14,6])\n",
    "sns.boxplot(data=df);"
   ]
  },
  {
   "cell_type": "code",
   "execution_count": 29,
   "id": "1d4dd16e",
   "metadata": {},
   "outputs": [
    {
     "data": {
      "text/plain": [
       "<AxesSubplot:>"
      ]
     },
     "execution_count": 29,
     "metadata": {},
     "output_type": "execute_result"
    },
    {
     "data": {
      "image/png": "[encoded data removed]",
      "text/plain": [
       "<Figure size 720x720 with 2 Axes>"
      ]
     },
     "metadata": {},
     "output_type": "display_data"
    }
   ],
   "source": [
    "correl = df.corr()\n",
    "cmap = sb.diverging_palette(220, 10, as_cmap = True)\n",
    "\n",
    "mask = np.zeros_like(correl, dtype = np.bool)\n",
    "mask[np.triu_indices_from(mask)] = True\n",
    "\n",
    "f, ax = plt.subplots(figsize = (10, 10))\n",
    "\n",
    "sb.heatmap(correl, mask = mask, cmap = cmap, vmax = 0.3, center = 0,annot = True, square = True, linewidths = 0.5, cbar_kws = {\"shrink\": .5})"
   ]
  },
  {
   "cell_type": "markdown",
   "id": "40cc7e3b",
   "metadata": {},
   "source": [
    "#### Exploratory data analysis-EDA"
   ]
  },
  {
   "cell_type": "code",
   "execution_count": 30,
   "id": "43ea2f1f",
   "metadata": {},
   "outputs": [
    {
     "data": {
      "text/html": [
       "<div>\n",
       "<style scoped>\n",
       "    .dataframe tbody tr th:only-of-type {\n",
       "        vertical-align: middle;\n",
       "    }\n",
       "\n",
       "    .dataframe tbody tr th {\n",
       "        vertical-align: top;\n",
       "    }\n",
       "\n",
       "    .dataframe thead th {\n",
       "        text-align: right;\n",
       "    }\n",
       "</style>\n",
       "<table border=\"1\" class=\"dataframe\">\n",
       "  <thead>\n",
       "    <tr style=\"text-align: right;\">\n",
       "      <th></th>\n",
       "      <th>cardio</th>\n",
       "    </tr>\n",
       "    <tr>\n",
       "      <th>gender</th>\n",
       "      <th></th>\n",
       "    </tr>\n",
       "  </thead>\n",
       "  <tbody>\n",
       "    <tr>\n",
       "      <th>1</th>\n",
       "      <td>20490</td>\n",
       "    </tr>\n",
       "    <tr>\n",
       "      <th>2</th>\n",
       "      <td>11029</td>\n",
       "    </tr>\n",
       "  </tbody>\n",
       "</table>\n",
       "</div>"
      ],
      "text/plain": [
       "        cardio\n",
       "gender        \n",
       "1        20490\n",
       "2        11029"
      ]
     },
     "execution_count": 30,
     "metadata": {},
     "output_type": "execute_result"
    }
   ],
   "source": [
    "q= df.groupby(['gender'])[['cardio']].sum()\n",
    "q"
   ]
  },
  {
   "cell_type": "code",
   "execution_count": 31,
   "id": "abbcf732",
   "metadata": {},
   "outputs": [
    {
     "data": {
      "image/png": "[encoded data removed]",
      "text/plain": [
       "<Figure size 936x432 with 1 Axes>"
      ]
     },
     "metadata": {},
     "output_type": "display_data"
    }
   ],
   "source": [
    "plt.figure(figsize=[13,6]);\n",
    "plt.pie(q.cardio ,labels=['famale','male'] , colors = ['#cc6699','#D3D3D3'], explode = (0,0.1), autopct='%1.0f%%');\n",
    "plt.axis('equal');\n",
    "plt.legend(title = \"gender\");\n",
    "plt.title('Percentage of Cardiovascular Disease per gender',size=20);"
   ]
  },
  {
   "cell_type": "code",
   "execution_count": 32,
   "id": "5ba2b1ed",
   "metadata": {},
   "outputs": [
    {
     "data": {
      "image/png": "[encoded data removed]",
      "text/plain": [
       "<Figure size 360x360 with 1 Axes>"
      ]
     },
     "metadata": {},
     "output_type": "display_data"
    }
   ],
   "source": [
    "## There appears to be a correlation between higher cholesterol levels and cardiovascular disease\n",
    "# chloesterol levels: 1 = normal, 2 = above normal, 3 = well above normal\n",
    "pal = ['#D8BFD8','#DDA0DD','#cc6699']\n",
    "sns.catplot(x='cholesterol', y='cardio', data=df, kind= 'bar', palette= pal)\n",
    "plt.title('Average Risk of Having Disease vs Rank of Cholesterol')\n",
    "plt.xlabel('Cholesterol Rank')\n",
    "plt.ylabel('Has Disease');"
   ]
  },
  {
   "cell_type": "code",
   "execution_count": 33,
   "id": "7c0ff29d",
   "metadata": {},
   "outputs": [
    {
     "data": {
      "image/png": "[encoded data removed]",
      "text/plain": [
       "<Figure size 432x288 with 1 Axes>"
      ]
     },
     "metadata": {},
     "output_type": "display_data"
    }
   ],
   "source": [
    "# There appears to be another correlation between higher glucose levels and cardiovascular disease\n",
    "# glucose levels: 1 = normal, 2 = above normal, 3 = well above normal\n",
    "sns.countplot(x='gluc', hue='cardio', data=df,color=\"#DB7093\")\n",
    "plt.legend(title= 'cardio',labels =['Uninfected', 'infected'])\n",
    "plt.title(' Effect of glucose to Cardiovascular', size=20);\n",
    "#plt_dictionary_3={1:'normal',2:'above normal',3:'well above normal'}\n",
    "#df.gluc=df.gluc.map(plt_dictionary_3)"
   ]
  },
  {
   "cell_type": "code",
   "execution_count": 34,
   "id": "65b9a9aa",
   "metadata": {},
   "outputs": [],
   "source": [
    "df.loc[(df['age'] < 40), 'age_range'] = 30\n",
    "df.loc[(df['age'] >= 40) & (df['age'] < 50), 'age_range'] = 40\n",
    "df.loc[(df['age'] >= 50) & (df['age'] < 60), 'age_range'] = 50\n",
    "df.loc[(df['age'] >= 60) & (df['age'] < 70), 'age_range'] = 60"
   ]
  },
  {
   "cell_type": "code",
   "execution_count": 35,
   "id": "ddfc51cb",
   "metadata": {},
   "outputs": [
    {
     "data": {
      "text/plain": [
       "50.00   0.51\n",
       "40.00   0.28\n",
       "60.00   0.19\n",
       "30.00   0.02\n",
       "Name: age_range, dtype: float64"
      ]
     },
     "execution_count": 35,
     "metadata": {},
     "output_type": "execute_result"
    }
   ],
   "source": [
    "df.age_range.value_counts(normalize= True)"
   ]
  },
  {
   "cell_type": "code",
   "execution_count": 36,
   "id": "a57f8bd1",
   "metadata": {},
   "outputs": [
    {
     "data": {
      "text/plain": [
       "Text(0, 0.5, 'Patients')"
      ]
     },
     "execution_count": 36,
     "metadata": {},
     "output_type": "execute_result"
    },
    {
     "data": {
      "image/png": "[encoded data removed]",
      "text/plain": [
       "<Figure size 432x288 with 1 Axes>"
      ]
     },
     "metadata": {},
     "output_type": "display_data"
    }
   ],
   "source": [
    "sns.countplot(x= 'age_range', hue= 'cardio', data= df,color=\"#DB7093\")\n",
    "plt.title('Age Ranges and Cardiovascular Disease')\n",
    "plt.xlabel('Age Range')\n",
    "plt.legend( ['Uninfected', 'infected'])\n",
    "plt.ylabel('Patients')"
   ]
  },
  {
   "cell_type": "code",
   "execution_count": 37,
   "id": "1688a47b",
   "metadata": {},
   "outputs": [
    {
     "data": {
      "image/png": "[encoded data removed]",
      "text/plain": [
       "<Figure size 432x432 with 1 Axes>"
      ]
     },
     "metadata": {},
     "output_type": "display_data"
    }
   ],
   "source": [
    "# 18-24.9 = perfect\n",
    "# 25-29.9 = Overweight\n",
    "#30 < =  obesity\n",
    "plt.figure(figsize= (6,6))\n",
    "pal = ['#cc6699','#D3D3D3']\n",
    "\n",
    "sns.scatterplot(x= 'age_range', y= 'BMI', hue= 'cardio', data= df, palette= pal)\n",
    "plt.title('Age Ranges, Weights, and Presence of Cardiovascular Disease', \n",
    "          fontweight= 'bold', fontsize= 15)\n",
    "plt.xlabel('Age Range')\n",
    "plt.ylabel('BMI')\n",
    "plt.legend();"
   ]
  },
  {
   "cell_type": "code",
   "execution_count": 38,
   "id": "6e350f8f",
   "metadata": {},
   "outputs": [
    {
     "data": {
      "image/png": "[encoded data removed]",
      "text/plain": [
       "<Figure size 1008x432 with 2 Axes>"
      ]
     },
     "metadata": {},
     "output_type": "display_data"
    }
   ],
   "source": [
    "fig, ax =plt.subplots(1,2,figsize=(14,6))\n",
    "sns.countplot(x=df[\"alco\"],hue=df[\"cholesterol\"],ax=ax[0], color=\"#DB7093\")\n",
    "sns.countplot(x=df[\"smoke\"],hue=df[\"cholesterol\"],ax=ax[1], color=\"#DB7093\")\n",
    "ax[0].set_title(\"Alcoholic vs Cholesterol\")\n",
    "ax[1].set_title(\"Smoker vs Cholesterol\")\n",
    "ax[0].set_xlabel(\"Acoholic\")\n",
    "ax[1].set_xlabel(\"Smoker\")\n",
    "ax[0].set_xticklabels([\"No\",\"Yes\"])\n",
    "ax[1].set_xticklabels([\"No\",\"Yes\"])\n",
    "ax[0].legend([\"Low CHolesterol\",\"High Cholesterol\",\"Very High Cholesterol\"],loc=\"center right\")\n",
    "ax[1].legend([\"Low CHolesterol\",\"High Cholesterol\",\"Very High Cholesterol\"],loc=\"center right\")\n",
    "fig.show()"
   ]
  },
  {
   "cell_type": "markdown",
   "id": "380c9690",
   "metadata": {},
   "source": [
    "# Machine Learning Models\n",
    "\n",
    "\n",
    "------------"
   ]
  },
  {
   "cell_type": "markdown",
   "id": "76c7ddd1",
   "metadata": {},
   "source": [
    "#### Split Data To (input-output):"
   ]
  },
  {
   "cell_type": "code",
   "execution_count": 39,
   "id": "a4cf72ef",
   "metadata": {},
   "outputs": [],
   "source": [
    "df['cholesterol'] = df['cholesterol'].astype('category')\n",
    "df['gluc'] = df['gluc'].astype('category')"
   ]
  },
  {
   "cell_type": "code",
   "execution_count": 40,
   "id": "b3d22178",
   "metadata": {},
   "outputs": [],
   "source": [
    "df = pd.get_dummies(df, prefix=['cholesterol', 'gluc'], drop_first=True)"
   ]
  },
  {
   "cell_type": "code",
   "execution_count": 41,
   "id": "4eb36b72",
   "metadata": {},
   "outputs": [],
   "source": [
    "y = df['cardio']\n",
    "X = df.drop('cardio', axis= 1)"
   ]
  },
  {
   "cell_type": "code",
   "execution_count": 42,
   "id": "498b5733",
   "metadata": {},
   "outputs": [],
   "source": [
    "X_train, X_test, y_train, y_test = train_test_split(X, y, random_state= 42)"
   ]
  },
  {
   "cell_type": "code",
   "execution_count": 43,
   "id": "0a901a22",
   "metadata": {},
   "outputs": [
    {
     "data": {
      "text/plain": [
       "(15879,)"
      ]
     },
     "execution_count": 43,
     "metadata": {},
     "output_type": "execute_result"
    }
   ],
   "source": [
    "y_test.shape"
   ]
  },
  {
   "cell_type": "code",
   "execution_count": 44,
   "id": "6120a7e9",
   "metadata": {},
   "outputs": [],
   "source": [
    "scaler = StandardScaler()"
   ]
  },
  {
   "cell_type": "code",
   "execution_count": 45,
   "id": "9a8077e6",
   "metadata": {},
   "outputs": [],
   "source": [
    "X_train = scaler.fit_transform(X_train)\n",
    "X_test = scaler.transform(X_test)"
   ]
  },
  {
   "cell_type": "code",
   "execution_count": 46,
   "id": "fa3acaf7",
   "metadata": {},
   "outputs": [],
   "source": [
    "classifiers = {\n",
    "    'Logistic Regression' : LogisticRegression(), \n",
    "    'Random Forest' : RandomForestClassifier(), \n",
    "    'Support Vector Machine' : SVC(), \n",
    "    'K-Nearest Neighbors' : KNeighborsClassifier(), \n",
    "    'Decision Tree' : DecisionTreeClassifier(), \n",
    "    'XGBoost' : XGBClassifier()\n",
    "}"
   ]
  },
  {
   "cell_type": "code",
   "execution_count": 47,
   "id": "f50a66ef",
   "metadata": {},
   "outputs": [
    {
     "name": "stdout",
     "output_type": "stream",
     "text": [
      "[18:59:21] WARNING: C:/Users/Administrator/workspace/xgboost-win64_release_1.5.1/src/learner.cc:1115: Starting in XGBoost 1.3.0, the default evaluation metric used with the objective 'binary:logistic' was changed from 'error' to 'logloss'. Explicitly set eval_metric if you'd like to restore the old behavior.\n"
     ]
    }
   ],
   "source": [
    "results = pd.DataFrame(columns= ['presision', 'recall', 'F1_score', \n",
    "                                'False_Negative', 'True_Positive'])\n",
    "for key, value in classifiers.items():\n",
    "    #fit models\n",
    "    value.fit(X_train, y_train)\n",
    "    train_pred = value.predict(X_train)\n",
    "    y_pred = value.predict(X_test)\n",
    "\n",
    "    pre_sc = precision_score(y_test, y_pred)\n",
    "    rec_sc = recall_score(y_test, y_pred)\n",
    "    f1 = f1_score(y_test, y_pred)\n",
    "\n",
    "    cm = confusion_matrix(y_test, y_pred)\n",
    "    FN = cm[1][0]\n",
    "    TP = cm[1][1]\n",
    "\n",
    "    results.loc[key] = [round(pre_sc, 2), round(rec_sc, 2), \n",
    "                        round(f1, 2), round(FN, 0), round(TP, 0)]"
   ]
  },
  {
   "cell_type": "code",
   "execution_count": 48,
   "id": "885565a5",
   "metadata": {},
   "outputs": [
    {
     "data": {
      "text/html": [
       "<div>\n",
       "<style scoped>\n",
       "    .dataframe tbody tr th:only-of-type {\n",
       "        vertical-align: middle;\n",
       "    }\n",
       "\n",
       "    .dataframe tbody tr th {\n",
       "        vertical-align: top;\n",
       "    }\n",
       "\n",
       "    .dataframe thead th {\n",
       "        text-align: right;\n",
       "    }\n",
       "</style>\n",
       "<table border=\"1\" class=\"dataframe\">\n",
       "  <thead>\n",
       "    <tr style=\"text-align: right;\">\n",
       "      <th></th>\n",
       "      <th>presision</th>\n",
       "      <th>recall</th>\n",
       "      <th>F1_score</th>\n",
       "      <th>False_Negative</th>\n",
       "      <th>True_Positive</th>\n",
       "    </tr>\n",
       "  </thead>\n",
       "  <tbody>\n",
       "    <tr>\n",
       "      <th>Logistic Regression</th>\n",
       "      <td>0.71</td>\n",
       "      <td>0.63</td>\n",
       "      <td>0.67</td>\n",
       "      <td>2935.00</td>\n",
       "      <td>4899.00</td>\n",
       "    </tr>\n",
       "    <tr>\n",
       "      <th>XGBoost</th>\n",
       "      <td>0.71</td>\n",
       "      <td>0.67</td>\n",
       "      <td>0.69</td>\n",
       "      <td>2613.00</td>\n",
       "      <td>5221.00</td>\n",
       "    </tr>\n",
       "    <tr>\n",
       "      <th>Support Vector Machine</th>\n",
       "      <td>0.70</td>\n",
       "      <td>0.68</td>\n",
       "      <td>0.69</td>\n",
       "      <td>2523.00</td>\n",
       "      <td>5311.00</td>\n",
       "    </tr>\n",
       "    <tr>\n",
       "      <th>K-Nearest Neighbors</th>\n",
       "      <td>0.65</td>\n",
       "      <td>0.65</td>\n",
       "      <td>0.65</td>\n",
       "      <td>2753.00</td>\n",
       "      <td>5081.00</td>\n",
       "    </tr>\n",
       "    <tr>\n",
       "      <th>Random Forest</th>\n",
       "      <td>0.65</td>\n",
       "      <td>0.65</td>\n",
       "      <td>0.65</td>\n",
       "      <td>2752.00</td>\n",
       "      <td>5082.00</td>\n",
       "    </tr>\n",
       "    <tr>\n",
       "      <th>Decision Tree</th>\n",
       "      <td>0.60</td>\n",
       "      <td>0.61</td>\n",
       "      <td>0.60</td>\n",
       "      <td>3088.00</td>\n",
       "      <td>4746.00</td>\n",
       "    </tr>\n",
       "  </tbody>\n",
       "</table>\n",
       "</div>"
      ],
      "text/plain": [
       "                        presision  recall  F1_score  False_Negative  \\\n",
       "Logistic Regression          0.71    0.63      0.67         2935.00   \n",
       "XGBoost                      0.71    0.67      0.69         2613.00   \n",
       "Support Vector Machine       0.70    0.68      0.69         2523.00   \n",
       "K-Nearest Neighbors          0.65    0.65      0.65         2753.00   \n",
       "Random Forest                0.65    0.65      0.65         2752.00   \n",
       "Decision Tree                0.60    0.61      0.60         3088.00   \n",
       "\n",
       "                        True_Positive  \n",
       "Logistic Regression           4899.00  \n",
       "XGBoost                       5221.00  \n",
       "Support Vector Machine        5311.00  \n",
       "K-Nearest Neighbors           5081.00  \n",
       "Random Forest                 5082.00  \n",
       "Decision Tree                 4746.00  "
      ]
     },
     "execution_count": 48,
     "metadata": {},
     "output_type": "execute_result"
    }
   ],
   "source": [
    "results.sort_values(by= ['presision', 'False_Negative'], ascending= False)"
   ]
  },
  {
   "cell_type": "code",
   "execution_count": 49,
   "id": "dfd65f4c",
   "metadata": {},
   "outputs": [],
   "source": [
    "# function to get results after each model\n",
    "\n",
    "def get_results(model, model_name):\n",
    "    train_pred = model.predict(X_train)\n",
    "    y_pred = model.predict(X_test)\n",
    "    \n",
    "    # get classification report\n",
    "    print('{} Classification Report'.format(model_name))\n",
    "    print(classification_report(y_test, y_pred))\n",
    "\n",
    "     # get confusion matrix\n",
    "    plot_confusion_matrix(model, X_test, y_test, cmap= \"Blues\", values_format= '.5g')\n",
    "    plt.grid(False)\n",
    "    plt.show()\n",
    "    \n",
    "\n",
    "    pre_sc = precision_score(y_test, y_pred)\n",
    "    rec_sc = recall_score(y_test, y_pred)\n",
    "    f1 = f1_score(y_test, y_pred)\n",
    "\n",
    "    #get false neg and true positive\n",
    "    cm = confusion_matrix(y_test, y_pred)\n",
    "    FN = cm[1][0]\n",
    "    TP = cm[1][1]\n",
    "    \n",
    "    # save measurements into results df\n",
    "    results.loc[model_name] = [round(pre_sc, 2), round(rec_sc, 2), \n",
    "                               round(f1, 2), round(FN, 0), round(TP, 0)]"
   ]
  },
  {
   "cell_type": "markdown",
   "id": "f8c6f68b",
   "metadata": {},
   "source": [
    "### XGBoost"
   ]
  },
  {
   "cell_type": "code",
   "execution_count": 50,
   "id": "6dd0a518",
   "metadata": {},
   "outputs": [],
   "source": [
    "# Instantiate classifier\n",
    "xgb = XGBClassifier()"
   ]
  },
  {
   "cell_type": "code",
   "execution_count": 51,
   "id": "a90c714f",
   "metadata": {},
   "outputs": [],
   "source": [
    "# create hyperparameter grid\n",
    "param_grid_xgb = {\n",
    "    'learning_rate': [0.08],\n",
    "    'max_depth': [4],\n",
    "    'min_child_weight': [2, 3],\n",
    "    'n_estimaters' : [125, 150],\n",
    "    'scale_pos_weight' : [1.5, 1.7]\n",
    "}\n",
    "# Instantiate Randomized Search\n",
    "# n_jobs : Number of jobs to run in parallel. -1 means using all processors.\n",
    "RS_xgb = RandomizedSearchCV(xgb, param_grid_xgb, n_jobs= 3, scoring= 'recall', \n",
    "                            random_state=42)"
   ]
  },
  {
   "cell_type": "code",
   "execution_count": 52,
   "id": "623bfdb0",
   "metadata": {},
   "outputs": [
    {
     "name": "stdout",
     "output_type": "stream",
     "text": [
      "[18:59:47] WARNING: C:/Users/Administrator/workspace/xgboost-win64_release_1.5.1/src/learner.cc:576: \n",
      "Parameters: { \"n_estimaters\" } might not be used.\n",
      "\n",
      "  This could be a false alarm, with some parameters getting used by language bindings but\n",
      "  then being mistakenly passed down to XGBoost core, or some parameter actually being used\n",
      "  but getting flagged wrongly here. Please open an issue if you find any such cases.\n",
      "\n",
      "\n",
      "[18:59:47] WARNING: C:/Users/Administrator/workspace/xgboost-win64_release_1.5.1/src/learner.cc:1115: Starting in XGBoost 1.3.0, the default evaluation metric used with the objective 'binary:logistic' was changed from 'error' to 'logloss'. Explicitly set eval_metric if you'd like to restore the old behavior.\n"
     ]
    },
    {
     "data": {
      "text/plain": [
       "RandomizedSearchCV(estimator=XGBClassifier(base_score=None, booster=None,\n",
       "                                           colsample_bylevel=None,\n",
       "                                           colsample_bynode=None,\n",
       "                                           colsample_bytree=None,\n",
       "                                           enable_categorical=False, gamma=None,\n",
       "                                           gpu_id=None, importance_type=None,\n",
       "                                           interaction_constraints=None,\n",
       "                                           learning_rate=None,\n",
       "                                           max_delta_step=None, max_depth=None,\n",
       "                                           min_child_weight=None, missing=nan,\n",
       "                                           monotone_constraints=None...\n",
       "                                           num_parallel_tree=None,\n",
       "                                           predictor=None, random_state=None,\n",
       "                                           reg_alpha=None, reg_lambda=None,\n",
       "                                           scale_pos_weight=None,\n",
       "                                           subsample=None, tree_method=None,\n",
       "                                           validate_parameters=None,\n",
       "                                           verbosity=None),\n",
       "                   n_jobs=3,\n",
       "                   param_distributions={'learning_rate': [0.08],\n",
       "                                        'max_depth': [4],\n",
       "                                        'min_child_weight': [2, 3],\n",
       "                                        'n_estimaters': [125, 150],\n",
       "                                        'scale_pos_weight': [1.5, 1.7]},\n",
       "                   random_state=42, scoring='recall')"
      ]
     },
     "execution_count": 52,
     "metadata": {},
     "output_type": "execute_result"
    }
   ],
   "source": [
    "# fit model\n",
    "RS_xgb.fit(X_train, y_train)"
   ]
  },
  {
   "cell_type": "code",
   "execution_count": 53,
   "id": "aadabee9",
   "metadata": {},
   "outputs": [
    {
     "name": "stdout",
     "output_type": "stream",
     "text": [
      "New XGBoost Classification Report\n",
      "              precision    recall  f1-score   support\n",
      "\n",
      "           0       0.76      0.53      0.63      8045\n",
      "           1       0.63      0.82      0.71      7834\n",
      "\n",
      "    accuracy                           0.68     15879\n",
      "   macro avg       0.69      0.68      0.67     15879\n",
      "weighted avg       0.69      0.68      0.67     15879\n",
      "\n"
     ]
    },
    {
     "data": {
      "image/png": "[encoded data removed]",
      "text/plain": [
       "<Figure size 432x288 with 2 Axes>"
      ]
     },
     "metadata": {},
     "output_type": "display_data"
    }
   ],
   "source": [
    "# see model results and add to results df\n",
    "get_results(RS_xgb, 'New XGBoost')"
   ]
  },
  {
   "cell_type": "markdown",
   "id": "a00daba8",
   "metadata": {},
   "source": [
    "### Random Forest"
   ]
  },
  {
   "cell_type": "code",
   "execution_count": 54,
   "id": "6f2f0082",
   "metadata": {},
   "outputs": [],
   "source": [
    "# Instantiate classifier\n",
    "RF = RandomForestClassifier()"
   ]
  },
  {
   "cell_type": "code",
   "execution_count": 55,
   "id": "708bafba",
   "metadata": {},
   "outputs": [],
   "source": [
    "param_grid_RF = {\n",
    "    'n_estimators' : [200],\n",
    "    'max_depth' : [100], \n",
    "    'min_samples_split' : [5, 8], \n",
    "    'min_samples_leaf' : [3],\n",
    "    'class_weight' : [{1 : 1.5}, {1 : 1.7}]\n",
    "}\n",
    "\n",
    "# Instantiate Randomized Search\n",
    "RS_RF = RandomizedSearchCV(RF, param_grid_RF, n_iter= 20, scoring= 'recall', \n",
    "                           random_state= 42)"
   ]
  },
  {
   "cell_type": "code",
   "execution_count": 56,
   "id": "bacb1686",
   "metadata": {},
   "outputs": [
    {
     "data": {
      "text/plain": [
       "RandomizedSearchCV(estimator=RandomForestClassifier(), n_iter=20,\n",
       "                   param_distributions={'class_weight': [{1: 1.5}, {1: 1.7}],\n",
       "                                        'max_depth': [100],\n",
       "                                        'min_samples_leaf': [3],\n",
       "                                        'min_samples_split': [5, 8],\n",
       "                                        'n_estimators': [200]},\n",
       "                   random_state=42, scoring='recall')"
      ]
     },
     "execution_count": 56,
     "metadata": {},
     "output_type": "execute_result"
    }
   ],
   "source": [
    "# fit model\n",
    "RS_RF.fit(X_train, y_train)"
   ]
  },
  {
   "cell_type": "code",
   "execution_count": 57,
   "id": "cd45a45d",
   "metadata": {},
   "outputs": [
    {
     "data": {
      "text/plain": [
       "{'n_estimators': 200,\n",
       " 'min_samples_split': 8,\n",
       " 'min_samples_leaf': 3,\n",
       " 'max_depth': 100,\n",
       " 'class_weight': {1: 1.7}}"
      ]
     },
     "execution_count": 57,
     "metadata": {},
     "output_type": "execute_result"
    }
   ],
   "source": [
    "RS_RF.best_params_"
   ]
  },
  {
   "cell_type": "code",
   "execution_count": 58,
   "id": "f4905353",
   "metadata": {},
   "outputs": [
    {
     "name": "stdout",
     "output_type": "stream",
     "text": [
      "New Random Forest Classification Report\n",
      "              precision    recall  f1-score   support\n",
      "\n",
      "           0       0.72      0.59      0.65      8045\n",
      "           1       0.65      0.77      0.70      7834\n",
      "\n",
      "    accuracy                           0.68     15879\n",
      "   macro avg       0.69      0.68      0.68     15879\n",
      "weighted avg       0.69      0.68      0.68     15879\n",
      "\n"
     ]
    },
    {
     "data": {
      "image/png": "[encoded data removed]",
      "text/plain": [
       "<Figure size 432x288 with 2 Axes>"
      ]
     },
     "metadata": {},
     "output_type": "display_data"
    }
   ],
   "source": [
    "# see model results and add to results df\n",
    "get_results(RS_RF, 'New Random Forest')"
   ]
  },
  {
   "cell_type": "markdown",
   "id": "2dfad02d",
   "metadata": {},
   "source": [
    "### K-Nearest Neighbor"
   ]
  },
  {
   "cell_type": "code",
   "execution_count": 59,
   "id": "63b8f73b",
   "metadata": {},
   "outputs": [],
   "source": [
    "# Instantiate classifier\n",
    "KNN = KNeighborsClassifier()"
   ]
  },
  {
   "cell_type": "code",
   "execution_count": 60,
   "id": "41f17f08",
   "metadata": {},
   "outputs": [],
   "source": [
    "# set parameter guidelines\n",
    "param_grid_KNN = {\n",
    "    'n_neighbors' : [23, 25, 27], \n",
    "    'weights' : ['uniform', 'distance']\n",
    "}\n",
    "\n",
    "# Instantiate Grid Search\n",
    "GS_KNN = GridSearchCV(KNN, param_grid_KNN, n_jobs= 3, scoring= 'recall')"
   ]
  },
  {
   "cell_type": "code",
   "execution_count": 61,
   "id": "93bb72f9",
   "metadata": {},
   "outputs": [
    {
     "data": {
      "text/plain": [
       "GridSearchCV(estimator=KNeighborsClassifier(), n_jobs=3,\n",
       "             param_grid={'n_neighbors': [23, 25, 27],\n",
       "                         'weights': ['uniform', 'distance']},\n",
       "             scoring='recall')"
      ]
     },
     "execution_count": 61,
     "metadata": {},
     "output_type": "execute_result"
    }
   ],
   "source": [
    "# fit model\n",
    "GS_KNN.fit(X_train, y_train)"
   ]
  },
  {
   "cell_type": "code",
   "execution_count": 62,
   "id": "524bade8",
   "metadata": {},
   "outputs": [
    {
     "data": {
      "text/plain": [
       "{'n_neighbors': 25, 'weights': 'uniform'}"
      ]
     },
     "execution_count": 62,
     "metadata": {},
     "output_type": "execute_result"
    }
   ],
   "source": [
    "GS_KNN.best_params_"
   ]
  },
  {
   "cell_type": "code",
   "execution_count": 63,
   "id": "f4284053",
   "metadata": {},
   "outputs": [
    {
     "name": "stdout",
     "output_type": "stream",
     "text": [
      "New KNN Classification Report\n",
      "              precision    recall  f1-score   support\n",
      "\n",
      "           0       0.69      0.71      0.70      8045\n",
      "           1       0.69      0.67      0.68      7834\n",
      "\n",
      "    accuracy                           0.69     15879\n",
      "   macro avg       0.69      0.69      0.69     15879\n",
      "weighted avg       0.69      0.69      0.69     15879\n",
      "\n"
     ]
    },
    {
     "data": {
      "image/png": "[encoded data removed]",
      "text/plain": [
       "<Figure size 432x288 with 2 Axes>"
      ]
     },
     "metadata": {},
     "output_type": "display_data"
    }
   ],
   "source": [
    "# see model results and add to results df\n",
    "get_results(GS_KNN, 'New KNN')"
   ]
  },
  {
   "cell_type": "markdown",
   "id": "297bb120",
   "metadata": {},
   "source": [
    "### Support Vector Machines (SVM)"
   ]
  },
  {
   "cell_type": "code",
   "execution_count": 64,
   "id": "67e01884",
   "metadata": {},
   "outputs": [],
   "source": [
    "# Instantiate classifier\n",
    "svc = SVC(class_weight = {1: 1.5}, random_state= 42)"
   ]
  },
  {
   "cell_type": "code",
   "execution_count": 65,
   "id": "b4078133",
   "metadata": {},
   "outputs": [
    {
     "data": {
      "text/plain": [
       "SVC(class_weight={1: 1.5}, random_state=42)"
      ]
     },
     "execution_count": 65,
     "metadata": {},
     "output_type": "execute_result"
    }
   ],
   "source": [
    "# fit model\n",
    "svc.fit(X_train, y_train)"
   ]
  },
  {
   "cell_type": "code",
   "execution_count": 66,
   "id": "c3a3a9b3",
   "metadata": {},
   "outputs": [
    {
     "name": "stdout",
     "output_type": "stream",
     "text": [
      "New SVM Classification Report\n",
      "              precision    recall  f1-score   support\n",
      "\n",
      "           0       0.74      0.58      0.65      8045\n",
      "           1       0.65      0.79      0.71      7834\n",
      "\n",
      "    accuracy                           0.68     15879\n",
      "   macro avg       0.69      0.68      0.68     15879\n",
      "weighted avg       0.69      0.68      0.68     15879\n",
      "\n"
     ]
    },
    {
     "data": {
      "image/png": "[encoded data removed]",
      "text/plain": [
       "<Figure size 432x288 with 2 Axes>"
      ]
     },
     "metadata": {},
     "output_type": "display_data"
    }
   ],
   "source": [
    "# see model results and add to results df\n",
    "get_results(svc, 'New SVM')"
   ]
  },
  {
   "cell_type": "markdown",
   "id": "82c01dd5",
   "metadata": {},
   "source": [
    "### Logistic Regression"
   ]
  },
  {
   "cell_type": "code",
   "execution_count": 67,
   "id": "23a7722e",
   "metadata": {},
   "outputs": [],
   "source": [
    "# Instantiate classifier\n",
    "LG = LogisticRegression()"
   ]
  },
  {
   "cell_type": "code",
   "execution_count": 68,
   "id": "aa3d9ea4",
   "metadata": {},
   "outputs": [],
   "source": [
    "# set parameter criteria\n",
    "param_grid_LG = {\n",
    "    'penalty': ['l1', 'l2'],\n",
    "    'C':[0.05, 0.1, 1], \n",
    "    'class_weight' : [None, {1 : 1.5}], \n",
    "    'random_state' : [42]\n",
    "}\n",
    "\n",
    "# Instantiate Grid Search\n",
    "GS_LG = GridSearchCV(LG, param_grid_LG, scoring= 'recall')"
   ]
  },
  {
   "cell_type": "code",
   "execution_count": 69,
   "id": "1782b883",
   "metadata": {},
   "outputs": [
    {
     "data": {
      "text/plain": [
       "GridSearchCV(estimator=LogisticRegression(),\n",
       "             param_grid={'C': [0.05, 0.1, 1], 'class_weight': [None, {1: 1.5}],\n",
       "                         'penalty': ['l1', 'l2'], 'random_state': [42]},\n",
       "             scoring='recall')"
      ]
     },
     "execution_count": 69,
     "metadata": {},
     "output_type": "execute_result"
    }
   ],
   "source": [
    "# fit model\n",
    "GS_LG.fit(X_train, y_train)"
   ]
  },
  {
   "cell_type": "code",
   "execution_count": 70,
   "id": "59d594a4",
   "metadata": {},
   "outputs": [
    {
     "data": {
      "text/plain": [
       "{'C': 0.05, 'class_weight': {1: 1.5}, 'penalty': 'l2', 'random_state': 42}"
      ]
     },
     "execution_count": 70,
     "metadata": {},
     "output_type": "execute_result"
    }
   ],
   "source": [
    "GS_LG.best_params_"
   ]
  },
  {
   "cell_type": "code",
   "execution_count": 1,
   "id": "6f60d307",
   "metadata": {},
   "outputs": [
    {
     "ename": "NameError",
     "evalue": "name 'get_results' is not defined",
     "output_type": "error",
     "traceback": [
      "\u001b[1;31m---------------------------------------------------------------------------\u001b[0m",
      "\u001b[1;31mNameError\u001b[0m                                 Traceback (most recent call last)",
      "\u001b[1;32m<ipython-input-1-82de0651a2a0>\u001b[0m in \u001b[0;36m<module>\u001b[1;34m\u001b[0m\n\u001b[0;32m      1\u001b[0m \u001b[1;31m# see model results and add to results df\u001b[0m\u001b[1;33m\u001b[0m\u001b[1;33m\u001b[0m\u001b[1;33m\u001b[0m\u001b[0m\n\u001b[1;32m----> 2\u001b[1;33m \u001b[0mget_results\u001b[0m\u001b[1;33m(\u001b[0m\u001b[0mGS_LG\u001b[0m\u001b[1;33m,\u001b[0m \u001b[1;34m'New Logistic Regression'\u001b[0m\u001b[1;33m)\u001b[0m\u001b[1;33m\u001b[0m\u001b[1;33m\u001b[0m\u001b[0m\n\u001b[0m",
      "\u001b[1;31mNameError\u001b[0m: name 'get_results' is not defined"
     ]
    }
   ],
   "source": [
    "# see model results and add to results df\n",
    "get_results(GS_LG, 'New Logistic Regression')"
   ]
  },
  {
   "cell_type": "markdown",
   "id": "80fbe047",
   "metadata": {},
   "source": [
    "### Decision Tree"
   ]
  },
  {
   "cell_type": "code",
   "execution_count": 72,
   "id": "c36d9328",
   "metadata": {},
   "outputs": [],
   "source": [
    "# Instantiate classifier\n",
    "DT = DecisionTreeClassifier()"
   ]
  },
  {
   "cell_type": "code",
   "execution_count": 73,
   "id": "ecc3eab6",
   "metadata": {},
   "outputs": [],
   "source": [
    "# set parameter criteria\n",
    "param_grid_DT = {\n",
    "    'max_depth' : [3, 4, 5], \n",
    "    'min_samples_split' : [0.01, 0.05, 0.1], \n",
    "    'min_samples_leaf' : [5, 7], \n",
    "    'class_weight' : [{1 : 1.4}, {1 : 1.6}]\n",
    "}\n",
    "\n",
    "# Instantiate Randomized Search\n",
    "RS_DT = RandomizedSearchCV(DT, param_grid_DT, n_jobs= 3, random_state=42)"
   ]
  },
  {
   "cell_type": "code",
   "execution_count": 74,
   "id": "21b1444d",
   "metadata": {},
   "outputs": [
    {
     "data": {
      "text/plain": [
       "RandomizedSearchCV(estimator=DecisionTreeClassifier(), n_jobs=3,\n",
       "                   param_distributions={'class_weight': [{1: 1.4}, {1: 1.6}],\n",
       "                                        'max_depth': [3, 4, 5],\n",
       "                                        'min_samples_leaf': [5, 7],\n",
       "                                        'min_samples_split': [0.01, 0.05, 0.1]},\n",
       "                   random_state=42)"
      ]
     },
     "execution_count": 74,
     "metadata": {},
     "output_type": "execute_result"
    }
   ],
   "source": [
    "# fit model\n",
    "RS_DT.fit(X_train, y_train)"
   ]
  },
  {
   "cell_type": "code",
   "execution_count": 75,
   "id": "98bd293b",
   "metadata": {},
   "outputs": [
    {
     "data": {
      "text/plain": [
       "{'min_samples_split': 0.05,\n",
       " 'min_samples_leaf': 5,\n",
       " 'max_depth': 5,\n",
       " 'class_weight': {1: 1.4}}"
      ]
     },
     "execution_count": 75,
     "metadata": {},
     "output_type": "execute_result"
    }
   ],
   "source": [
    "RS_DT.best_params_"
   ]
  },
  {
   "cell_type": "code",
   "execution_count": 76,
   "id": "d6c5bdb4",
   "metadata": {},
   "outputs": [
    {
     "name": "stdout",
     "output_type": "stream",
     "text": [
      "New Decision Tree Classification Report\n",
      "              precision    recall  f1-score   support\n",
      "\n",
      "           0       0.70      0.70      0.70      8045\n",
      "           1       0.69      0.70      0.69      7834\n",
      "\n",
      "    accuracy                           0.70     15879\n",
      "   macro avg       0.70      0.70      0.70     15879\n",
      "weighted avg       0.70      0.70      0.70     15879\n",
      "\n"
     ]
    },
    {
     "data": {
      "image/png": "[encoded data removed]",
      "text/plain": [
       "<Figure size 432x288 with 2 Axes>"
      ]
     },
     "metadata": {},
     "output_type": "display_data"
    }
   ],
   "source": [
    "get_results(RS_DT, 'New Decision Tree')"
   ]
  },
  {
   "cell_type": "markdown",
   "id": "934a96ac",
   "metadata": {},
   "source": [
    "### view all results"
   ]
  },
  {
   "cell_type": "code",
   "execution_count": 97,
   "id": "4586c0c2",
   "metadata": {
    "scrolled": true
   },
   "outputs": [
    {
     "data": {
      "text/html": [
       "<div>\n",
       "<style scoped>\n",
       "    .dataframe tbody tr th:only-of-type {\n",
       "        vertical-align: middle;\n",
       "    }\n",
       "\n",
       "    .dataframe tbody tr th {\n",
       "        vertical-align: top;\n",
       "    }\n",
       "\n",
       "    .dataframe thead th {\n",
       "        text-align: right;\n",
       "    }\n",
       "</style>\n",
       "<table border=\"1\" class=\"dataframe\">\n",
       "  <thead>\n",
       "    <tr style=\"text-align: right;\">\n",
       "      <th></th>\n",
       "      <th>presision</th>\n",
       "      <th>recall</th>\n",
       "      <th>F1_score</th>\n",
       "      <th>False_Negative</th>\n",
       "      <th>True_Positive</th>\n",
       "    </tr>\n",
       "  </thead>\n",
       "  <tbody>\n",
       "    <tr>\n",
       "      <th>New XGBoost</th>\n",
       "      <td>0.63</td>\n",
       "      <td>0.82</td>\n",
       "      <td>0.71</td>\n",
       "      <td>1391.00</td>\n",
       "      <td>6443.00</td>\n",
       "    </tr>\n",
       "    <tr>\n",
       "      <th>GS Logistic Regression</th>\n",
       "      <td>0.64</td>\n",
       "      <td>0.79</td>\n",
       "      <td>0.71</td>\n",
       "      <td>1650.00</td>\n",
       "      <td>6184.00</td>\n",
       "    </tr>\n",
       "    <tr>\n",
       "      <th>New SVM</th>\n",
       "      <td>0.65</td>\n",
       "      <td>0.79</td>\n",
       "      <td>0.71</td>\n",
       "      <td>1627.00</td>\n",
       "      <td>6207.00</td>\n",
       "    </tr>\n",
       "    <tr>\n",
       "      <th>New Random Forest</th>\n",
       "      <td>0.65</td>\n",
       "      <td>0.77</td>\n",
       "      <td>0.70</td>\n",
       "      <td>1796.00</td>\n",
       "      <td>6038.00</td>\n",
       "    </tr>\n",
       "    <tr>\n",
       "      <th>New Decision Tree</th>\n",
       "      <td>0.69</td>\n",
       "      <td>0.70</td>\n",
       "      <td>0.69</td>\n",
       "      <td>2387.00</td>\n",
       "      <td>5447.00</td>\n",
       "    </tr>\n",
       "    <tr>\n",
       "      <th>Support Vector Machine</th>\n",
       "      <td>0.70</td>\n",
       "      <td>0.68</td>\n",
       "      <td>0.69</td>\n",
       "      <td>2523.00</td>\n",
       "      <td>5311.00</td>\n",
       "    </tr>\n",
       "    <tr>\n",
       "      <th>XGBoost</th>\n",
       "      <td>0.71</td>\n",
       "      <td>0.67</td>\n",
       "      <td>0.69</td>\n",
       "      <td>2613.00</td>\n",
       "      <td>5221.00</td>\n",
       "    </tr>\n",
       "    <tr>\n",
       "      <th>New KNN</th>\n",
       "      <td>0.69</td>\n",
       "      <td>0.67</td>\n",
       "      <td>0.68</td>\n",
       "      <td>2547.00</td>\n",
       "      <td>5287.00</td>\n",
       "    </tr>\n",
       "    <tr>\n",
       "      <th>K-Nearest Neighbors</th>\n",
       "      <td>0.65</td>\n",
       "      <td>0.65</td>\n",
       "      <td>0.65</td>\n",
       "      <td>2753.00</td>\n",
       "      <td>5081.00</td>\n",
       "    </tr>\n",
       "    <tr>\n",
       "      <th>Random Forest</th>\n",
       "      <td>0.65</td>\n",
       "      <td>0.65</td>\n",
       "      <td>0.65</td>\n",
       "      <td>2752.00</td>\n",
       "      <td>5082.00</td>\n",
       "    </tr>\n",
       "    <tr>\n",
       "      <th>Logistic Regression</th>\n",
       "      <td>0.71</td>\n",
       "      <td>0.63</td>\n",
       "      <td>0.67</td>\n",
       "      <td>2935.00</td>\n",
       "      <td>4899.00</td>\n",
       "    </tr>\n",
       "    <tr>\n",
       "      <th>Decision Tree</th>\n",
       "      <td>0.60</td>\n",
       "      <td>0.61</td>\n",
       "      <td>0.60</td>\n",
       "      <td>3088.00</td>\n",
       "      <td>4746.00</td>\n",
       "    </tr>\n",
       "  </tbody>\n",
       "</table>\n",
       "</div>"
      ],
      "text/plain": [
       "                        presision  recall  F1_score  False_Negative  \\\n",
       "New XGBoost                  0.63    0.82      0.71         1391.00   \n",
       "GS Logistic Regression       0.64    0.79      0.71         1650.00   \n",
       "New SVM                      0.65    0.79      0.71         1627.00   \n",
       "New Random Forest            0.65    0.77      0.70         1796.00   \n",
       "New Decision Tree            0.69    0.70      0.69         2387.00   \n",
       "Support Vector Machine       0.70    0.68      0.69         2523.00   \n",
       "XGBoost                      0.71    0.67      0.69         2613.00   \n",
       "New KNN                      0.69    0.67      0.68         2547.00   \n",
       "K-Nearest Neighbors          0.65    0.65      0.65         2753.00   \n",
       "Random Forest                0.65    0.65      0.65         2752.00   \n",
       "Logistic Regression          0.71    0.63      0.67         2935.00   \n",
       "Decision Tree                0.60    0.61      0.60         3088.00   \n",
       "\n",
       "                        True_Positive  \n",
       "New XGBoost                   6443.00  \n",
       "GS Logistic Regression        6184.00  \n",
       "New SVM                       6207.00  \n",
       "New Random Forest             6038.00  \n",
       "New Decision Tree             5447.00  \n",
       "Support Vector Machine        5311.00  \n",
       "XGBoost                       5221.00  \n",
       "New KNN                       5287.00  \n",
       "K-Nearest Neighbors           5081.00  \n",
       "Random Forest                 5082.00  \n",
       "Logistic Regression           4899.00  \n",
       "Decision Tree                 4746.00  "
      ]
     },
     "execution_count": 97,
     "metadata": {},
     "output_type": "execute_result"
    }
   ],
   "source": [
    "#view all results (models) befor and after using hyperparameter \n",
    "results = results.sort_values(by= ['recall', 'False_Negative'], \n",
    "                              ascending= False)\n",
    "results"
   ]
  },
  {
   "cell_type": "markdown",
   "id": "d13a84cb",
   "metadata": {},
   "source": [
    "### Staking"
   ]
  },
  {
   "cell_type": "code",
   "execution_count": null,
   "id": "60fecc13",
   "metadata": {},
   "outputs": [],
   "source": [
    "scv=StackingCVClassifier(classifiers=[RS_xgb,svc,GS_LG],meta_classifier= RS_RF,random_state=42)\n",
    "scv.fit(X_train,y_train)\n",
    "scv_predicted = scv.predict(X_test)\n",
    "scv_conf_matrix = confusion_matrix(y_test, scv_predicted)\n",
    "rec_score = recall_score(y_test, y_pred)\n",
    "print(\"confussion matrix\")\n",
    "print(scv_conf_matrix)\n",
    "print(classification_report(y_test,scv_predicted))\n",
    "print(\"\\n\")\n",
    "print('Recall of StackingCVClassifier:',metrics.recall_score(y_test,scv_predicted)*100,'%')\n",
    "print('precision of StackingCVClassifier:',metrics.precision_score(y_test,scv_predicted)*100,'%')"
   ]
  },
  {
   "cell_type": "markdown",
   "id": "af2f5a2a",
   "metadata": {},
   "source": [
    "__________"
   ]
  },
  {
   "cell_type": "markdown",
   "id": "bfea691e",
   "metadata": {},
   "source": [
    "### This Work Done By:\n",
    "\n",
    "- ELHAM ALZAHRANI\n",
    "- NOUF ALKHALDI\n",
    "- ABDULRAHIM ALSHEHRI"
   ]
  }
 ],
 "metadata": {
  "kernelspec": {
   "display_name": "Python 3",
   "language": "python",
   "name": "python3"
  },
  "language_info": {
   "codemirror_mode": {
    "name": "ipython",
    "version": 3
   },
   "file_extension": ".py",
   "mimetype": "text/x-python",
   "name": "python",
   "nbconvert_exporter": "python",
   "pygments_lexer": "ipython3",
   "version": "3.8.8"
  }
 },
 "nbformat": 4,
 "nbformat_minor": 5
}
